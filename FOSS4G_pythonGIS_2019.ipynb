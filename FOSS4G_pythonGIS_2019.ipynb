{
  "nbformat": 4,
  "nbformat_minor": 0,
  "metadata": {
    "colab": {
      "name": "pythonGIS_2019.ipynb",
      "provenance": [],
      "collapsed_sections": [
        "XnJUOWd9P7Zv"
      ],
      "toc_visible": true
    },
    "kernelspec": {
      "name": "python3",
      "display_name": "Python 3"
    }
  },
  "cells": [
    {
      "cell_type": "markdown",
      "metadata": {
        "id": "2OAjaKJjSqdW",
        "colab_type": "text"
      },
      "source": [
        "#Python for GIS"
      ]
    },
    {
      "cell_type": "markdown",
      "metadata": {
        "id": "7BCphZEvSxGr",
        "colab_type": "text"
      },
      "source": [
        "**Introduction**\n",
        "- Python เป็นภาษาคอมพิวเตอร์ที่เป็น tools สำคัญในงานด้านการวิเคราะห์ข้อมูลเชิงพื้นที่ โดยเฉพาะลักษณะ กระบวนการทำงานแบบ อัตโนมัติ\n",
        "- รองรับด้านการจัดการข้อมูล , การประมวลผล การแสดงผล รวมไปถึงความสามารถในการพัฒนา application ต่างๆ\n",
        "- ภาษาผสานใน GIS Software เช่น QGIS , ArcGIS, GRASS ช่วยเพิ่มประสิทธิภาพในการทำงาน\n",
        "- Python เป็นเหมือนตัวเชื่อมประสาน การทำงานร่วมกันระหว่างนัก GIS กับ Developer\n",
        "- ขยายขีดความสามารถในการเข้าถึงและวิเคราะห์ข้อมูล spatail data ในระบบงานที่ซับซ้อน เช่น งานด้าน Data science , AI\n",
        "- มีการเติบโต และขยายของนักพัฒนา ทำให้มี opensource lib รองรับจำนวนมาก ส่วนหนึ่งต่อยอดจาก opensource gis เดิม รวมถึงการพัฒนาโมเดลใหม่ๆในลักษณะ GIS programming stack \n"
      ]
    },
    {
      "cell_type": "markdown",
      "metadata": {
        "id": "f7dLGCPvaI2x",
        "colab_type": "text"
      },
      "source": [
        "## การติดตั้งโปรแกรมและไลบารี"
      ]
    },
    {
      "cell_type": "markdown",
      "metadata": {
        "id": "lE9S6MoLaljx",
        "colab_type": "text"
      },
      "source": [
        "1. **ทำการติดตั้ง lib ผ่าน pip**\n",
        "\n"
      ]
    },
    {
      "cell_type": "code",
      "metadata": {
        "id": "bNRNTVJSSufX",
        "colab_type": "code",
        "colab": {}
      },
      "source": [
        "# Install shapely\n",
        "!pip install shapely\n",
        "# Install geopandas\n",
        "!pip install geopandas\n",
        "#!pip install git+git://github.com/geopandas/geopandas.git\n",
        "\n",
        "# Install cartopy\n",
        "!pip install cartopy\n",
        "# Install networkx \n",
        "!pip install networkx\n",
        "# Install osmnx \n",
        "!pip install osmnx\n",
        "# Install statsmodels\n",
        "!pip install statsmodels\n",
        "# Install folium \n",
        "!pip install folium\n",
        "# Install bokeh\n",
        "!pip install bokeh\n",
        "# Install geopy\n",
        "!pip install geopy\n",
        "!pip install geojson\n",
        "#libspatialindex (just in case)\n",
        "!apt install libspatialindex-dev\n",
        "#!pip install git+https://github.com/pysal/pysal.git"
      ],
      "execution_count": 0,
      "outputs": []
    },
    {
      "cell_type": "code",
      "metadata": {
        "id": "PR3Pv97Qibv0",
        "colab_type": "code",
        "colab": {}
      },
      "source": [
        "## Extra install \n",
        "!apt-get install libproj-dev proj-data proj-bin  \n",
        "!apt-get install libgeos-dev  \n",
        "!pip install cython  \n",
        "!pip install cartopy \n",
        "!pip install git+https://github.com/ResidentMario/geoplot.git\n",
        "!pip install pysal"
      ],
      "execution_count": 0,
      "outputs": []
    },
    {
      "cell_type": "markdown",
      "metadata": {
        "id": "xKEMn5bAboXr",
        "colab_type": "text"
      },
      "source": [
        "2. ทดสอบการติดตั้ง"
      ]
    },
    {
      "cell_type": "code",
      "metadata": {
        "id": "7dP_eBU6bsCF",
        "colab_type": "code",
        "colab": {}
      },
      "source": [
        "import geopandas as gpd\n",
        "print(gpd)"
      ],
      "execution_count": 0,
      "outputs": []
    },
    {
      "cell_type": "markdown",
      "metadata": {
        "id": "4ZfJ995ncoFO",
        "colab_type": "text"
      },
      "source": [
        "## Spatial Data Model"
      ]
    },
    {
      "cell_type": "markdown",
      "metadata": {
        "id": "71bOurWEcscG",
        "colab_type": "text"
      },
      "source": [
        "- การสร้างแบบจำลองข้อมูลเชิงพื้นที่ในระบบสารสนเทศ ประเภท Vector Model\n",
        "- เรียกใช้ GeoPandas เพื่อการประมวลผลและจัดการข้อมูล geometry object \n"
      ]
    },
    {
      "cell_type": "markdown",
      "metadata": {
        "id": "S2QAAc8MKTJd",
        "colab_type": "text"
      },
      "source": [
        "- สร้าง geometry object ด้วย GeoSeries"
      ]
    },
    {
      "cell_type": "code",
      "metadata": {
        "id": "PD2dpC8wKdxY",
        "colab_type": "code",
        "colab": {}
      },
      "source": [
        "# Import necessary modules\n",
        "%matplotlib inline\n",
        "import geopandas as gpd\n",
        "from shapely.wkt import loads\n",
        "from shapely.geometry import Point, LineString,Polygon\n",
        "import matplotlib.pyplot as plt\n",
        "\n",
        "import warnings\n",
        "warnings.filterwarnings(\"ignore\")"
      ],
      "execution_count": 0,
      "outputs": []
    },
    {
      "cell_type": "markdown",
      "metadata": {
        "id": "Wx9FpuH1MM-9",
        "colab_type": "text"
      },
      "source": [
        "**- Point**"
      ]
    },
    {
      "cell_type": "code",
      "metadata": {
        "id": "OBkJKGGlb4_D",
        "colab_type": "code",
        "colab": {}
      },
      "source": [
        "\n",
        "mwkt = gpd.GeoSeries([loads('POINT(1 2)'), loads('POINT(1.5 2.5)'), loads('POINT(2 3)')])\n",
        "mwkt"
      ],
      "execution_count": 0,
      "outputs": []
    },
    {
      "cell_type": "code",
      "metadata": {
        "id": "--54Q6vVK8kH",
        "colab_type": "code",
        "colab": {}
      },
      "source": [
        "mwkt2 = gpd.GeoSeries([Point(-120, 45.1), Point(-121.2, 46.14), Point(-122.9, 47.5)])\n",
        "mwkt2 .crs = {'init': 'epsg:4326'}\n",
        "mwkt2 "
      ],
      "execution_count": 0,
      "outputs": []
    },
    {
      "cell_type": "code",
      "metadata": {
        "id": "lTcAGFo2Lb8G",
        "colab_type": "code",
        "colab": {}
      },
      "source": [
        "#plot geoseries\n",
        "mwkt2.plot(marker='*', color='red', markersize=100, figsize=(4, 4))\n",
        "plt.xlim([-123, -119.8])\n",
        "plt.ylim([44.8, 47.7]);"
      ],
      "execution_count": 0,
      "outputs": []
    },
    {
      "cell_type": "markdown",
      "metadata": {
        "id": "p5i5cdMAMKG_",
        "colab_type": "text"
      },
      "source": [
        "**- Line String**"
      ]
    },
    {
      "cell_type": "code",
      "metadata": {
        "id": "Ol9y0zEHMTnU",
        "colab_type": "code",
        "colab": {}
      },
      "source": [
        "# Linestring\n",
        "mline1 = LineString([\n",
        "    Point(0, 0),\n",
        "    Point(0, 1),\n",
        "    Point(1, 1),\n",
        "    Point(1, 2),\n",
        "    Point(3, 4),\n",
        "    Point(5, 6),\n",
        "])\n",
        "mline2 = LineString([\n",
        "    Point(6, 10),\n",
        "    Point(10, 14),\n",
        "    Point(11, 12),\n",
        "    Point(12, 15),\n",
        "])\n",
        "\n"
      ],
      "execution_count": 0,
      "outputs": []
    },
    {
      "cell_type": "code",
      "metadata": {
        "id": "chFWrPG7MX8l",
        "colab_type": "code",
        "colab": {}
      },
      "source": [
        "#สร้าง line ด้วย geoseries\n",
        "mline = gpd.GeoSeries([mline1, mline2])\n",
        "print(mline)\n",
        "\n"
      ],
      "execution_count": 0,
      "outputs": []
    },
    {
      "cell_type": "code",
      "metadata": {
        "id": "zz1MTM9QMwAF",
        "colab_type": "code",
        "colab": {}
      },
      "source": [
        "#plot geoseries\n",
        "mline.plot()"
      ],
      "execution_count": 0,
      "outputs": []
    },
    {
      "cell_type": "markdown",
      "metadata": {
        "id": "i5LLA3-qM38K",
        "colab_type": "text"
      },
      "source": [
        "**- Polygon**"
      ]
    },
    {
      "cell_type": "code",
      "metadata": {
        "id": "m66r1Rw7M77l",
        "colab_type": "code",
        "colab": {}
      },
      "source": [
        "#Polygon\n",
        "p1 = Polygon([(1.5, 0), (1.75, 0), (1.75, 2),(1.5, 2)])\n",
        "p2 = Polygon([(0, 0), (1, 0), (1, 1), (0, 1)])\n",
        "p3 = Polygon([(2, 0), (3, 0), (3, 1), (2, 1)])"
      ],
      "execution_count": 0,
      "outputs": []
    },
    {
      "cell_type": "code",
      "metadata": {
        "id": "-QcZ-gXaM_8K",
        "colab_type": "code",
        "colab": {}
      },
      "source": [
        "mpolygon = gpd.GeoSeries([p1, p2, p3])\n",
        "print(mpolygon )"
      ],
      "execution_count": 0,
      "outputs": []
    },
    {
      "cell_type": "code",
      "metadata": {
        "id": "DsiO7o-9NPV0",
        "colab_type": "code",
        "colab": {}
      },
      "source": [
        "#plot geoseries\n",
        "mpolygon.plot()"
      ],
      "execution_count": 0,
      "outputs": []
    },
    {
      "cell_type": "markdown",
      "metadata": {
        "id": "RkoTKVRmczS-",
        "colab_type": "text"
      },
      "source": [
        "## Spatial Data Management"
      ]
    },
    {
      "cell_type": "markdown",
      "metadata": {
        "id": "yZReUfPBeeLW",
        "colab_type": "text"
      },
      "source": [
        "- Reading File : ทำการเข้าถึง GIS Data ด้วย Geopandas\n",
        "- Geopandas เข้าถึงไฟล์ผ่านฟังกฺชั่น gpd.from_file() \n",
        "- รองรับการทำงานเกือบทุกประเภทไฟล์จัดเก็บข้อมูล GIS\n",
        "\n"
      ]
    },
    {
      "cell_type": "markdown",
      "metadata": {
        "id": "HcdLj9WigEql",
        "colab_type": "text"
      },
      "source": [
        "**- ดาวน์โหลดข้อมูลตัวอย่าง**"
      ]
    },
    {
      "cell_type": "code",
      "metadata": {
        "id": "PnGkeEQdfPV-",
        "colab_type": "code",
        "colab": {}
      },
      "source": [
        "# Download file\n",
        "!wget -O 'province.zip' https://github.com/chaipat-ncm/pythonGIS/blob/master/data/Province.zip?raw=true"
      ],
      "execution_count": 0,
      "outputs": []
    },
    {
      "cell_type": "code",
      "metadata": {
        "id": "EbSt31C_fRy1",
        "colab_type": "code",
        "colab": {}
      },
      "source": [
        "!unzip ./province.zip"
      ],
      "execution_count": 0,
      "outputs": []
    },
    {
      "cell_type": "markdown",
      "metadata": {
        "id": "UMvz7sjYgTd2",
        "colab_type": "text"
      },
      "source": [
        "**- ทำการอ่าน GIS file**"
      ]
    },
    {
      "cell_type": "code",
      "metadata": {
        "id": "30FfLv0HdUW3",
        "colab_type": "code",
        "colab": {}
      },
      "source": [
        "# Import necessary modules\n",
        "%matplotlib inline\n",
        "import geopandas as gpd\n",
        "import numpy as np"
      ],
      "execution_count": 0,
      "outputs": []
    },
    {
      "cell_type": "code",
      "metadata": {
        "id": "_W3vT5i2f3Hb",
        "colab_type": "code",
        "colab": {}
      },
      "source": [
        "# Set filepath\n",
        "mf = 'Province.shp'\n",
        "\n",
        "# Read file using gpd.read_file()\n",
        "gdata = gpd.read_file(mf, encoding = 'tis-620')\n",
        "type(gdata)"
      ],
      "execution_count": 0,
      "outputs": []
    },
    {
      "cell_type": "markdown",
      "metadata": {
        "id": "TiKh9JMIie96",
        "colab_type": "text"
      },
      "source": [
        "**- ทำการตรวจสอบข้อมูล ที่นำเข้าสู่ Geodataframe**"
      ]
    },
    {
      "cell_type": "code",
      "metadata": {
        "id": "RiO53AIugvJc",
        "colab_type": "code",
        "colab": {}
      },
      "source": [
        "# show some sample data \n",
        "gdata.head(10)"
      ],
      "execution_count": 0,
      "outputs": []
    },
    {
      "cell_type": "code",
      "metadata": {
        "id": "vkO9wh6WhATK",
        "colab_type": "code",
        "colab": {}
      },
      "source": [
        "gdata.plot()"
      ],
      "execution_count": 0,
      "outputs": []
    },
    {
      "cell_type": "markdown",
      "metadata": {
        "id": "wAlK0yUv0FqN",
        "colab_type": "text"
      },
      "source": [
        "**- ทำการเขียน GIS file จาก GeoDataFrame**"
      ]
    },
    {
      "cell_type": "code",
      "metadata": {
        "id": "KySSGtx8hksp",
        "colab_type": "code",
        "colab": {}
      },
      "source": [
        "# กำหนดปลายทางที่จะบันทึกไฟล์\n",
        "outfp = \"./province_out3.shp\"\n",
        "\n",
        "# เลือก feature บางส่วน 20 แถวแรก\n",
        "selection = gdata[0:20]\n",
        "\n",
        "print(selection)\n",
        "\n",
        "# เขียนไฟล์ผลลัพธ์\n",
        "selection.to_file(outfp)"
      ],
      "execution_count": 0,
      "outputs": []
    },
    {
      "cell_type": "code",
      "metadata": {
        "id": "mPAzC6hV0z2g",
        "colab_type": "code",
        "colab": {}
      },
      "source": [
        "# เขียนไฟล์รูปแบบแตกต่าง \n",
        "selection.to_file('province_out.geojson', driver='GeoJSON')\n",
        "selection.to_file(\"spatialdb.gpkg\", layer='privince', driver=\"GPKG\")"
      ],
      "execution_count": 0,
      "outputs": []
    },
    {
      "cell_type": "code",
      "metadata": {
        "id": "F0GMoDP61Oxr",
        "colab_type": "code",
        "colab": {}
      },
      "source": [
        "result = gpd.read_file('./province_out.geojson')\n",
        "print(result.crs)\n",
        "print(result.head())"
      ],
      "execution_count": 0,
      "outputs": []
    },
    {
      "cell_type": "markdown",
      "metadata": {
        "id": "RkhlO6Jx4YI5",
        "colab_type": "text"
      },
      "source": [
        "**- การจัดการข้อมูล Geomety ด้วย Geopandas**"
      ]
    },
    {
      "cell_type": "code",
      "metadata": {
        "id": "DUjrrbuO1lCc",
        "colab_type": "code",
        "colab": {}
      },
      "source": [
        "#แสดงข้อมูล\n",
        "print(gdata['geometry'].head(10))\n",
        "\n"
      ],
      "execution_count": 0,
      "outputs": []
    },
    {
      "cell_type": "code",
      "metadata": {
        "id": "ccJf-_S-4jb3",
        "colab_type": "code",
        "colab": {}
      },
      "source": [
        "#เข้าถึงคุณสมบัติเชิงเรขาคณิตของ spatial data\n",
        "# หาขอบเขตของชั้นข้อมูล\n",
        "layer_bbox = gdata.total_bounds\n",
        "# หาพื้นที่รวมของชั้นข้อมูล\n",
        "total_area = sum(gdata.area)/1000000\n",
        "\n",
        "print('boundary =',layer_bbox)\n",
        "print('total area =',total_area)\n"
      ],
      "execution_count": 0,
      "outputs": []
    },
    {
      "cell_type": "code",
      "metadata": {
        "id": "L4fgK_RZ7Vg5",
        "colab_type": "code",
        "colab": {}
      },
      "source": [
        "# สร้างคอลัมภ์คำนวณพื้นที่ราย polygon\n",
        "gdata['p_area'] = gdata.area/1000000\n",
        "gdata['bbox_minx'] = (gdata.bounds.minx)\n",
        "gdata['bbox_miny'] = (gdata.bounds.miny)\n",
        "gdata['bbox_maxx'] = (gdata.bounds.maxx)\n",
        "gdata['bbox_maxy'] = (gdata.bounds.maxy)\n",
        "\n",
        "#gdata[['PROV_NAMT','p_area']].head()\n",
        "gdata.head()"
      ],
      "execution_count": 0,
      "outputs": []
    },
    {
      "cell_type": "code",
      "metadata": {
        "id": "bxui0Jn4A-e5",
        "colab_type": "code",
        "colab": {}
      },
      "source": [
        "# Maximum area\n",
        "max_area = gdata['p_area'].max()\n",
        "\n",
        "# Minimum area\n",
        "min_area = gdata['p_area'].min()\n",
        "\n",
        "# Mean area\n",
        "mean_area = gdata['p_area'].mean()\n",
        "\n",
        "print(\"Max area: {max}\\nMin area: {min}\\nMean area: {mean}\".format(max=round(max_area, 2), min=round(min_area, 2), mean=round(mean_area, 2)))"
      ],
      "execution_count": 0,
      "outputs": []
    },
    {
      "cell_type": "code",
      "metadata": {
        "id": "VFN1x39REgNT",
        "colab_type": "code",
        "colab": {}
      },
      "source": [
        " # spatial query หาจังหวัดพื้นที่มากที่สุด\n",
        "  gdata.query('p_area >= 22060')"
      ],
      "execution_count": 0,
      "outputs": []
    },
    {
      "cell_type": "code",
      "metadata": {
        "id": "JY2RpCsOEoXz",
        "colab_type": "code",
        "colab": {}
      },
      "source": [
        " # spatial query หาจังหวัดพื้นที่น้อยกว่า 500 ตร.กม\n",
        "  gdata[['PROV_NAMT','p_area']].query('p_area <= 500')"
      ],
      "execution_count": 0,
      "outputs": []
    },
    {
      "cell_type": "code",
      "metadata": {
        "id": "Kj9NFlaLFMB6",
        "colab_type": "code",
        "colab": {}
      },
      "source": [
        "resmap = gdata[(gdata.p_area <= 500) | (gdata.p_area >= 22060)]\n",
        "resmap.plot(figsize=(7,5))"
      ],
      "execution_count": 0,
      "outputs": []
    },
    {
      "cell_type": "markdown",
      "metadata": {
        "id": "r4ko0mAbNeFB",
        "colab_type": "text"
      },
      "source": [
        "##Spatial Reference System"
      ]
    },
    {
      "cell_type": "markdown",
      "metadata": {
        "id": "PfTAJaE6NhC6",
        "colab_type": "text"
      },
      "source": [
        "- การจัดการระบบพิกัดภูมิศาสตร์ ของข้อมูล geometry object\n"
      ]
    },
    {
      "cell_type": "code",
      "metadata": {
        "id": "icGlPnyLNfla",
        "colab_type": "code",
        "colab": {}
      },
      "source": [
        "#แสดงผล coordinate reference system\n",
        "print(gdata.crs)\n",
        "# spatial extent \n",
        "print(gdata.total_bounds)"
      ],
      "execution_count": 0,
      "outputs": []
    },
    {
      "cell_type": "code",
      "metadata": {
        "id": "nVFL0FRcE62h",
        "colab_type": "code",
        "colab": {}
      },
      "source": [
        "\n",
        "f, ax = plt.subplots()\n",
        "ax = gdata.plot(ax=ax,figsize=(7,5))\n",
        "ax.set_title(\"WGS 84 / UTM zone 47N \")"
      ],
      "execution_count": 0,
      "outputs": []
    },
    {
      "cell_type": "markdown",
      "metadata": {
        "id": "r8i2vmGaESmb",
        "colab_type": "text"
      },
      "source": [
        "- ทำการแปลงระบบพิกัด"
      ]
    },
    {
      "cell_type": "code",
      "metadata": {
        "id": "d7ZAXL_xEWub",
        "colab_type": "code",
        "colab": {}
      },
      "source": [
        "# reprojection\n",
        "\n",
        "gdata_geo_wgs84  = gdata.to_crs({'init': 'epsg:4326'})\n",
        " #แสดงผล coordinate reference system\n",
        "print(gdata_geo_wgs84.crs)\n",
        "# spatial extent \n",
        "print(gdata_geo_wgs84.total_bounds)"
      ],
      "execution_count": 0,
      "outputs": []
    },
    {
      "cell_type": "code",
      "metadata": {
        "id": "bSf2ITjJHdyH",
        "colab_type": "code",
        "colab": {}
      },
      "source": [
        "\n",
        "f, ax = plt.subplots()\n",
        "ax = gdata_geo_wgs84.plot(ax=ax,figsize=(7,5))\n",
        "ax.set_title(\"WGS 84 / Geographic coordinate system\")"
      ],
      "execution_count": 0,
      "outputs": []
    },
    {
      "cell_type": "markdown",
      "metadata": {
        "id": "BtBmGvPiOEyA",
        "colab_type": "text"
      },
      "source": [
        "## Geocode"
      ]
    },
    {
      "cell_type": "code",
      "metadata": {
        "id": "CngXYldfOGgu",
        "colab_type": "code",
        "colab": {}
      },
      "source": [
        "import pandas as pd\n",
        "import geopandas as gpd\n",
        "from shapely.geometry import Point\n",
        "from geopandas.tools import geocode"
      ],
      "execution_count": 0,
      "outputs": []
    },
    {
      "cell_type": "markdown",
      "metadata": {
        "id": "X9kkH7EhOqea",
        "colab_type": "text"
      },
      "source": [
        "- เตรียมรายชื่อ สถานที่ต้องการค้นหา พิกัดตำแหน่ง"
      ]
    },
    {
      "cell_type": "code",
      "metadata": {
        "id": "t_WI3VrwOHpY",
        "colab_type": "code",
        "colab": {}
      },
      "source": [
        "data = {'Site 1':'Witthayu, แขวงลุมพินี, เขตปทุมวัน, กรุงเทพมหานคร, 10330, ประเทศไทย',\n",
        "       'Site 2':' แขวงสีลม, เขตบางรัก, กรุงเทพมหานคร, 10500, ประเทศไทย',\n",
        "        'Site 3': 'โรงเรียนสาธิตจุฬาลงกรณ์มหาวิทยาลัย ,ซอยจุฬาลงกรณ์ 42, แขวงวังใหม่, เขตปทุมวัน, กรุงเทพมหานคร, 10330, ประเทศไทย',\n",
        "        'Site 4': 'วัดหัวลำโพง, ซอยหน้าวัดหัวลำโพง, แขวงสุริยวงศ์, เขตบางรัก, กรุงเทพมหานคร, 10500, ประเทศไทย',\n",
        "        'Site 5': 'จุฬาลงกรณ์มหาวิทยาลัย',\n",
        "        'Site 6': 'ซอยจุฬาลงกรณ์ 5, แขวงวังใหม่, เขตปทุมวัน, กรุงเทพมหานคร, 10330, ประเทศไทย'\n",
        "}\n",
        "\n",
        "df = pd.DataFrame(list(data.items()), columns=['id', 'address'])\n",
        "df.head(5)\n"
      ],
      "execution_count": 0,
      "outputs": []
    },
    {
      "cell_type": "markdown",
      "metadata": {
        "id": "aqUbpGKcOgT4",
        "colab_type": "text"
      },
      "source": [
        "- เรียกข้อมูล geocode จาก Nominatim API \n",
        "- ค้นหาข้อมูลจาก OpenStreetMap data"
      ]
    },
    {
      "cell_type": "code",
      "metadata": {
        "id": "wW9vwIj0OO23",
        "colab_type": "code",
        "colab": {}
      },
      "source": [
        "geo = geocode(df['address'], provider='nominatim', user_agent='cu_user_ht')\n",
        "geo.head()"
      ],
      "execution_count": 0,
      "outputs": []
    },
    {
      "cell_type": "code",
      "metadata": {
        "id": "oxhjZRWIO0T3",
        "colab_type": "code",
        "colab": {}
      },
      "source": [
        "#ทดลอง plot แผนที่ตำแหน่งผลลัพธ์\n",
        "geo.plot()"
      ],
      "execution_count": 0,
      "outputs": []
    },
    {
      "cell_type": "markdown",
      "metadata": {
        "id": "wByJhuMrIMn8",
        "colab_type": "text"
      },
      "source": [
        "## OGC Web Feature Service"
      ]
    },
    {
      "cell_type": "markdown",
      "metadata": {
        "id": "5pXEL9H_IULv",
        "colab_type": "text"
      },
      "source": [
        "- Web feature service โปรโตคอลมาตรฐานของ OGC พัฒนาขึ้นเพื่อบริการข้อมูล spatial data \n",
        "- เชื่อมโยงการทำงานระหว่างระบบ GIS แบบ interoperability ในการเข้าถึงข้อมูลผ่าน webservice\n"
      ]
    },
    {
      "cell_type": "code",
      "metadata": {
        "id": "wOCILF0wheSy",
        "colab_type": "code",
        "colab": {}
      },
      "source": [
        "# Import necessary modules\n",
        "%matplotlib inline\n",
        "import geopandas as gpd\n",
        "from shapely.wkt import loads\n",
        "from shapely.geometry import Point, LineString,Polygon\n",
        "import matplotlib.pyplot as plt"
      ],
      "execution_count": 0,
      "outputs": []
    },
    {
      "cell_type": "code",
      "metadata": {
        "id": "AbGzKZEkhYxE",
        "colab_type": "code",
        "colab": {}
      },
      "source": [
        "import requests\n",
        "import geojson"
      ],
      "execution_count": 0,
      "outputs": []
    },
    {
      "cell_type": "code",
      "metadata": {
        "id": "MdGmlCIqIaFY",
        "colab_type": "code",
        "colab": {}
      },
      "source": [
        "# Define WFS Server\n",
        "# load  Global Ocean Acidification Observation Network (GOA-ON)\n",
        "wfs_url = \"http://data.nanoos.org/geoserver/ows\"\n",
        "params = dict(service='WFS', version='1.0.0', request='GetFeature',\n",
        "              typeName='oa:goaoninv', outputFormat='json')\n",
        "\n",
        "#Request GetFeature\n",
        "r = requests.get(wfs_url, params=params)\n",
        "# Load geojson output\n",
        "wfs_geo = geojson.loads(r.content)"
      ],
      "execution_count": 0,
      "outputs": []
    },
    {
      "cell_type": "code",
      "metadata": {
        "id": "E-CT1AAnh-ay",
        "colab_type": "code",
        "colab": {}
      },
      "source": [
        "# Read File form dataset\n",
        "world = gpd.read_file(gpd.datasets.get_path('naturalearth_lowres'))\n",
        "\n",
        "#Convet json to geopandas\n",
        "wfs_gdf = gpd.GeoDataFrame.from_features(wfs_geo)\n",
        "wfs_gdf.plot(ax=world.plot(cmap='Set3', figsize=(10, 6)),\n",
        "             marker='o', color='red', markersize=15);"
      ],
      "execution_count": 0,
      "outputs": []
    },
    {
      "cell_type": "code",
      "metadata": {
        "id": "gvRgA1X9jxoA",
        "colab_type": "code",
        "colab": {}
      },
      "source": [
        "# checking atribute data\n",
        "wfs_gdf.head(5)"
      ],
      "execution_count": 0,
      "outputs": []
    },
    {
      "cell_type": "markdown",
      "metadata": {
        "id": "2Kg7R49_kVaO",
        "colab_type": "text"
      },
      "source": [
        "WFS service ของประเทศไทย"
      ]
    },
    {
      "cell_type": "markdown",
      "metadata": {
        "id": "qiODpgubA_H8",
        "colab_type": "text"
      },
      "source": [
        "1. ชั้นข้อมูลขอบเขตการปกครองอำเภอ (srs:4326, polygon)"
      ]
    },
    {
      "cell_type": "code",
      "metadata": {
        "id": "7zoyPjGX_zRA",
        "colab_type": "code",
        "colab": {}
      },
      "source": [
        "wfs_energy_url = 'http://mapservices.energy.go.th:80/geoserver/ows?'\n",
        "params = dict(service='WFS', version='1.0.0', request='GetFeature',\n",
        "              typeName='EnergyGIS:Amphoe', outputFormat='json')\n",
        "\n",
        "r = requests.get(wfs_energy_url, params=params)\n",
        "wfs_energy_amphoe = geojson.loads(r.content)\n",
        "\n",
        "\n"
      ],
      "execution_count": 0,
      "outputs": []
    },
    {
      "cell_type": "code",
      "metadata": {
        "id": "v_76mEPXE_t6",
        "colab_type": "code",
        "colab": {}
      },
      "source": [
        "print(type(wfs_energy_amphoe))\n",
        "print(wfs_energy_amphoe.keys())\n",
        "print(len(wfs_energy_amphoe.__geo_interface__['features']))"
      ],
      "execution_count": 0,
      "outputs": []
    },
    {
      "cell_type": "code",
      "metadata": {
        "id": "Wh-aRBBIkh79",
        "colab_type": "code",
        "colab": {}
      },
      "source": [
        "# covert geojson to geopandas dataframe\n",
        "wfs_gdf_amphoe = gpd.GeoDataFrame.from_features(wfs_energy_amphoe, crs={'init': 'epsg:4326'})\n",
        "wfs_gdf_amphoe.plot()"
      ],
      "execution_count": 0,
      "outputs": []
    },
    {
      "cell_type": "code",
      "metadata": {
        "id": "y1hC0UafBd-n",
        "colab_type": "code",
        "colab": {}
      },
      "source": [
        "# check atrribute data\n",
        "wfs_gdf_amphoe.tail(50)"
      ],
      "execution_count": 0,
      "outputs": []
    },
    {
      "cell_type": "markdown",
      "metadata": {
        "id": "bexmgNBlBOYF",
        "colab_type": "text"
      },
      "source": [
        "2.ชั้นข้อมูลทางรถไฟ (srs:4326, linestring)"
      ]
    },
    {
      "cell_type": "code",
      "metadata": {
        "id": "A5UFrPQFBW0N",
        "colab_type": "code",
        "colab": {}
      },
      "source": [
        "wfs_energy_url = 'http://mapservices.energy.go.th:80/geoserver/ows?'\n",
        "params2 = dict(service='WFS', version='1.0.0', request='GetFeature',\n",
        "              typeName='EnergyGIS:Railway', outputFormat='json')\n",
        "\n",
        "r = requests.get(wfs_energy_url, params=params2)\n",
        "wfs_energy_railway = geojson.loads(r.content)\n",
        "\n",
        "# covert geojson to geopandas dataframe\n",
        "wfs_gdf_railway = gpd.GeoDataFrame.from_features(wfs_energy_railway, crs={'init': 'epsg:4326'})\n",
        "wfs_gdf_railway.plot()"
      ],
      "execution_count": 0,
      "outputs": []
    },
    {
      "cell_type": "code",
      "metadata": {
        "id": "jrJ1xrJIB-02",
        "colab_type": "code",
        "colab": {}
      },
      "source": [
        "# check atrribute data\n",
        "wfs_gdf_railway.head(5)"
      ],
      "execution_count": 0,
      "outputs": []
    },
    {
      "cell_type": "markdown",
      "metadata": {
        "id": "s_zhVL0lCDdX",
        "colab_type": "text"
      },
      "source": [
        "3. ชั้นข้อมูลสถานที่ราชการ (srs:4326,point)"
      ]
    },
    {
      "cell_type": "code",
      "metadata": {
        "id": "o0yVoptCCNGa",
        "colab_type": "code",
        "colab": {}
      },
      "source": [
        "wfs_energy_url = 'http://mapservices.energy.go.th:80/geoserver/ows?'\n",
        "params3 = dict(service='WFS', version='1.0.0', request='GetFeature',\n",
        "              typeName='EnergyGIS:Layer86', outputFormat='json')\n",
        "\n",
        "r = requests.get(wfs_energy_url, params=params3)\n",
        "wfs_energy_office = geojson.loads(r.content)\n",
        "\n",
        "# covert geojson to geopandas dataframe\n",
        "wfs_gdf_office = gpd.GeoDataFrame.from_features(wfs_energy_office, crs={'init': 'epsg:4326'})\n",
        "wfs_gdf_office.plot()"
      ],
      "execution_count": 0,
      "outputs": []
    },
    {
      "cell_type": "code",
      "metadata": {
        "id": "bGmVJdtqCd4L",
        "colab_type": "code",
        "colab": {}
      },
      "source": [
        "# check atrribute data\n",
        "wfs_gdf_office.head(5)"
      ],
      "execution_count": 0,
      "outputs": []
    },
    {
      "cell_type": "markdown",
      "metadata": {
        "id": "sZkXp40tVwfR",
        "colab_type": "text"
      },
      "source": [
        "Export file"
      ]
    },
    {
      "cell_type": "code",
      "metadata": {
        "id": "zRsRI7KHV86C",
        "colab_type": "code",
        "colab": {}
      },
      "source": [
        "wfs_gdf_amphoe.to_file(\"wfs_amphoe.gpkg\", layer='amphoe', driver=\"GPKG\")\n",
        "#wfs_gdf_railway.to_file(\"wfs_railway.gpkg\", layer='railway', driver=\"GPKG\")\n",
        "#wfs_gdf_office.to_file(\"wfs_office.gpkg\", layer='office', driver=\"GPKG\")"
      ],
      "execution_count": 0,
      "outputs": []
    },
    {
      "cell_type": "code",
      "metadata": {
        "id": "FbQbmVWkWn4k",
        "colab_type": "code",
        "colab": {}
      },
      "source": [
        "chk_result = gpd.read_file('wfs_amphoe.gpkg')\n",
        "print(chk_result.crs)\n",
        "print(chk_result.head(10))"
      ],
      "execution_count": 0,
      "outputs": []
    },
    {
      "cell_type": "markdown",
      "metadata": {
        "id": "KpDjzhm9pPpJ",
        "colab_type": "text"
      },
      "source": [
        "## Spatial Data Analysis\n",
        "- การวิเคราห์ข้อมูลเชิงพื้นที่\n",
        "- ประกอบด้วย Geoprocessing &  spatial relation\n",
        "- Geoprocessing คือ การประมวลผล เพื่อสร้างข้อมูล geometry ใหม่จากข้อมูล geometry ตั้งต้น \n",
        "- และส่วนการประมวลผล ระหว่าง geometry เพื่อสร้างผลลัพธ์จากการโมเดลวิเคราะห์\n",
        "- ได้แก่ Buffer , Merge , Difference, Intersection, Union เป็นต้น\n",
        "- ศึกษาเพิ่มเติมจาก [link](http://geopandas.org/reference.html)"
      ]
    },
    {
      "cell_type": "markdown",
      "metadata": {
        "id": "Kjza_mLQw1kW",
        "colab_type": "text"
      },
      "source": [
        "![alt text](https://docs.qgis.org/2.8/en/_images/overlay_operations.png)"
      ]
    },
    {
      "cell_type": "markdown",
      "metadata": {
        "id": "BeBcizR5zQKd",
        "colab_type": "text"
      },
      "source": [
        "1. เตรียมตัวอย่าง data ประกอบด้วย Point , Line และ Polygon"
      ]
    },
    {
      "cell_type": "code",
      "metadata": {
        "id": "dTEPfvLypg-f",
        "colab_type": "code",
        "colab": {}
      },
      "source": [
        "#check data\n",
        "wfs_gdf_amphoe.geom_type.tail(10)"
      ],
      "execution_count": 0,
      "outputs": []
    },
    {
      "cell_type": "code",
      "metadata": {
        "id": "27utSnVHzBGw",
        "colab_type": "code",
        "colab": {}
      },
      "source": [
        "#check data\n",
        "wfs_gdf_office.geom_type.tail(10)"
      ],
      "execution_count": 0,
      "outputs": []
    },
    {
      "cell_type": "code",
      "metadata": {
        "id": "iFXXr_qhzKGS",
        "colab_type": "code",
        "colab": {}
      },
      "source": [
        "#check data\n",
        "wfs_gdf_railway.geom_type.tail(10)"
      ],
      "execution_count": 0,
      "outputs": []
    },
    {
      "cell_type": "markdown",
      "metadata": {
        "id": "8cT3SLrezXu3",
        "colab_type": "text"
      },
      "source": [
        "2. intersection\n",
        "- การหาส่วนซ้อนทับของ geometry จากสองชั้นข้อมูล"
      ]
    },
    {
      "cell_type": "code",
      "metadata": {
        "id": "AWNLCDhuzsCu",
        "colab_type": "code",
        "colab": {}
      },
      "source": [
        "amphoe_se = wfs_gdf_amphoe[(wfs_gdf_amphoe['ProvinceTh'] == 'นครศรีธรรมราช')]\n",
        "inter =amphoe_se['geometry'].intersection(wfs_gdf_railway['geometry'].unary_union)\n",
        "r_length=inter.to_crs({'init': 'epsg:32647'}).length\n",
        "print('ระยะทางรถไฟที่ผ่าน:',sum(r_length)/1000)\n",
        "inter.plot()"
      ],
      "execution_count": 0,
      "outputs": []
    },
    {
      "cell_type": "markdown",
      "metadata": {
        "id": "yIAL7AdB5fio",
        "colab_type": "text"
      },
      "source": [
        "3. Buffer\n",
        "- การสร้าง polygon แสดงขอบเขต จากการกำหนดระยะห่างออกจาก geometry object"
      ]
    },
    {
      "cell_type": "code",
      "metadata": {
        "id": "luPhrsrB7hjm",
        "colab_type": "code",
        "colab": {}
      },
      "source": [
        "#แปลงพิกัด จาก lat lon  ไป UTM\n",
        "railway_utm = wfs_gdf_railway.to_crs({'init': 'epsg:32647'})\n",
        "# สร้าง buffer ระยะห่างจากทางรถไฟ 5 km\n",
        "railway_10km = railway_utm.buffer(10000)\n",
        "railway_10km.plot()"
      ],
      "execution_count": 0,
      "outputs": []
    },
    {
      "cell_type": "code",
      "metadata": {
        "id": "rCkd1yVK8b8k",
        "colab_type": "code",
        "colab": {}
      },
      "source": [
        "energy_office_utm=wfs_gdf_office.to_crs({'init': 'epsg:32647'})\n",
        "# นำ output จาก buffer มาใช้ทำ spatial query\n",
        "result = energy_office_utm[(energy_office_utm.within(railway_10km.geometry)) ]\n",
        "                          \n",
        "\n",
        "result"
      ],
      "execution_count": 0,
      "outputs": []
    },
    {
      "cell_type": "code",
      "metadata": {
        "id": "8fRq1UoX_sYt",
        "colab_type": "code",
        "colab": {}
      },
      "source": [
        "\n",
        "f, ax = plt.subplots(1, figsize=(12, 6))\n",
        "ax.set_title('Energy office near railway')\n",
        "\n",
        "railway_10km.plot(ax=ax, facecolor='lightgray')\n",
        "railway_utm.plot(ax=ax)\n",
        "\n",
        "result.plot(ax=ax,marker='o', color='red', markersize=15)\n",
        "\n",
        "res_bounds = result.geometry.bounds\n",
        "\n",
        "plt.xlim([res_bounds.minx.min()-70000, res_bounds.maxx.max()+70000])\n",
        "plt.ylim([res_bounds.miny.min()-70000, res_bounds.maxy.max()+70000]);\n",
        "\n"
      ],
      "execution_count": 0,
      "outputs": []
    },
    {
      "cell_type": "markdown",
      "metadata": {
        "id": "UIDLlVsMC_fI",
        "colab_type": "text"
      },
      "source": [
        "4. distance\n",
        "- คำนวณระยะห่างในแนวระนาบ ระหว่าง geometry object"
      ]
    },
    {
      "cell_type": "code",
      "metadata": {
        "id": "rfItesEI5rXJ",
        "colab_type": "code",
        "colab": {}
      },
      "source": [
        "target  = Point(500000,2000000)\n",
        "\n",
        "amphoe_station = wfs_gdf_amphoe[(wfs_gdf_amphoe['ProvinceTh'] == 'ลำพูน')].to_crs({'init': 'epsg:32647'}).centroid\n",
        "amphoe_station.plot()"
      ],
      "execution_count": 0,
      "outputs": []
    },
    {
      "cell_type": "code",
      "metadata": {
        "id": "IP8BXXReCLQl",
        "colab_type": "code",
        "colab": {}
      },
      "source": [
        "#คำนวณระยะห่าง\n",
        "amphoe_station.distance(target)/1000"
      ],
      "execution_count": 0,
      "outputs": []
    },
    {
      "cell_type": "markdown",
      "metadata": {
        "id": "o2LZRR03ZLuM",
        "colab_type": "text"
      },
      "source": [
        "## Spatial Join\n",
        " - กระบวนการเชื่อมต่อตารางข้อมูล ด้วยเงื่อนไขเชิงพื้นที่\n",
        " - เทคนิคการผสานข้อมูล geometry data สอง layer เข้าด้วยกัน\n",
        " - ทำงานบนเงื่อนไข spatial relationship ได้แก่ intersects,within,contains\n",
        " -รองรับประเภทการ join แบบ\n",
        "‘left’(retain only left_df geometry column)\n",
        "‘right’(retain only right_df geometry column)\n",
        "‘inner’( intersection from both dfs; retain only left_df geometry column)"
      ]
    },
    {
      "cell_type": "markdown",
      "metadata": {
        "id": "jreynBJfcnC9",
        "colab_type": "text"
      },
      "source": [
        "![alt text](https://raw.githubusercontent.com/chaipat-ncm/foss4gthailand_2019_pythongis/master/image/10-30-2019%2011-12-50%20PM.png)"
      ]
    },
    {
      "cell_type": "code",
      "metadata": {
        "id": "D-mnh3tUZt5s",
        "colab_type": "code",
        "colab": {}
      },
      "source": [
        "gcpoint = geo.head(5)"
      ],
      "execution_count": 0,
      "outputs": []
    },
    {
      "cell_type": "code",
      "metadata": {
        "id": "EUB_RHMPeQB5",
        "colab_type": "code",
        "colab": {}
      },
      "source": [
        "restable = gpd.sjoin(gcpoint, wfs_gdf_amphoe, op='within')\n",
        "restable"
      ],
      "execution_count": 0,
      "outputs": []
    },
    {
      "cell_type": "markdown",
      "metadata": {
        "id": "Br0G3jjwCgIn",
        "colab_type": "text"
      },
      "source": [
        "## Spatial Query\n",
        "\n",
        "- กระบวนการสืบค้นข้อมูลเชิงตำแหน่ง ที่ใช้เงื่อนไขเชิงตำแหน่งในการวิเคราะห์ข้อมูลเพื่อให้ได้ผลลัพธ์ตามต้องการ \n",
        "- โดยการนำ geometry data มาร่วมในการสร้างเงื่อนไขเพื่อทำการวิเคราะห์คุณสมบัติความสัมพันธ์จากฐานข้อมูล\n",
        "- ดำเนินการบนเงื่อนไขประเภท spatial relationships \n",
        "-ได้แก่ contains(), crosses(), .intersects(),overlaps(),touches(), disjoint(), within()\n",
        "- ผลลัพธ์ของการวิเคราะห์ด้วย spatial relationships function จะส่งกลับ ค่าเป็น true / false"
      ]
    },
    {
      "cell_type": "markdown",
      "metadata": {
        "id": "s58bbTdKVpyR",
        "colab_type": "text"
      },
      "source": [
        "1. Contains\n",
        "- เงื่อนไขการวิเคราะห์ geometry ประเภท polygon ที่มีการบรรจุ ข้อมูล point"
      ]
    },
    {
      "cell_type": "code",
      "metadata": {
        "id": "xlnF5IJaFS3n",
        "colab_type": "code",
        "colab": {}
      },
      "source": [
        "px = Point(99.05402552,18.55100667)\n",
        "\n",
        "#จังหวัดลำพูน + พื้นที่มากกว่า 100 ตร.กม + ระยะไม่เกิน\n",
        "result = wfs_gdf_amphoe[(wfs_gdf_amphoe['ProvinceTh'] == 'ลำพูน') \n",
        "                        &(wfs_gdf_amphoe['Area']>1000000)\n",
        "                        &(wfs_gdf_amphoe.geometry.contains(px))\n",
        "                       \n",
        "                       ]\n",
        "                          \n",
        "\n",
        "result.head(10)"
      ],
      "execution_count": 0,
      "outputs": []
    },
    {
      "cell_type": "markdown",
      "metadata": {
        "id": "2Wr8y9IvVupM",
        "colab_type": "text"
      },
      "source": [
        "2. intersect\n",
        "- เงื่อนไขการหาความสัมพันธ์ของ สองชุดข้อมูล geometry ที่มีการซ้อนทับกัน"
      ]
    },
    {
      "cell_type": "code",
      "metadata": {
        "id": "PZ2OFjseV-sY",
        "colab_type": "code",
        "colab": {}
      },
      "source": [
        "amphoe_x = wfs_gdf_amphoe[(wfs_gdf_amphoe['ProvinceTh'] == 'นครศรีธรรมราช')]\n",
        "amphoe_x['bbox'] = wfs_gdf_amphoe.envelope\n",
        "amphoe_x.head(5)\n",
        "                          "
      ],
      "execution_count": 0,
      "outputs": []
    },
    {
      "cell_type": "code",
      "metadata": {
        "id": "FE_x0ioKXOI3",
        "colab_type": "code",
        "colab": {}
      },
      "source": [
        "amphoe_x.plot(cmap='Set2', figsize=(8, 8), alpha=0.7, edgecolor='black')"
      ],
      "execution_count": 0,
      "outputs": []
    },
    {
      "cell_type": "code",
      "metadata": {
        "id": "b_HXJQ2uWcSv",
        "colab_type": "code",
        "colab": {}
      },
      "source": [
        "amphoe_x.envelope.plot(cmap='Set2', figsize=(8, 8), alpha=0.7, edgecolor='black')"
      ],
      "execution_count": 0,
      "outputs": []
    },
    {
      "cell_type": "code",
      "metadata": {
        "id": "np78ap1ZUV-i",
        "colab_type": "code",
        "colab": {}
      },
      "source": [
        "result = amphoe_x[(amphoe_x.geometry.intersects(wfs_gdf_railway.geometry.unary_union))]\n",
        "                          \n",
        "\n",
        "result.head(3)"
      ],
      "execution_count": 0,
      "outputs": []
    },
    {
      "cell_type": "code",
      "metadata": {
        "id": "161eIM48YugL",
        "colab_type": "code",
        "colab": {}
      },
      "source": [
        "int_railway = amphoe_x.geometry.intersection(wfs_gdf_railway.geometry.unary_union)\n",
        "\n",
        "f, ax = plt.subplots(1, figsize=(12, 6))\n",
        "ax.set_title('railway intersection')\n",
        "# Other nice categorical color maps (cmap) include 'Set2' and 'Set3'\n",
        "\n",
        "int_railway.plot(ax=ax, facecolor='lightgray', edgecolor='gray')\n",
        "amphoe_x.plot(ax=ax,cmap='Set2')\n",
        "\n",
        "plt.axis('equal');"
      ],
      "execution_count": 0,
      "outputs": []
    },
    {
      "cell_type": "markdown",
      "metadata": {
        "id": "ybH1r_uLdf7E",
        "colab_type": "text"
      },
      "source": [
        "3. with in\n",
        "- ทดสอบการวิเคราะห์ จุดตำแหน่ง(point) อยู่ใน โพลีกอน(polygon)"
      ]
    },
    {
      "cell_type": "code",
      "metadata": {
        "id": "OpDF3si29f2g",
        "colab_type": "code",
        "colab": {}
      },
      "source": [
        "# เลือก polygon ของ อำเภอ ใน 3 จังหวัดที่ต้องการ\n",
        "amphoe_merge = wfs_gdf_amphoe[(wfs_gdf_amphoe['ProvinceTh'] == 'สมุทรสงคราม')\n",
        "                              |(wfs_gdf_amphoe['ProvinceTh'] == 'เพชรบุรี')\n",
        "                              |(wfs_gdf_amphoe['ProvinceTh'] == 'ราชบุรี')\n",
        "                             ]\n",
        "\n",
        "amphoe_merge.head(10)"
      ],
      "execution_count": 0,
      "outputs": []
    },
    {
      "cell_type": "code",
      "metadata": {
        "id": "KK53mcljcRiF",
        "colab_type": "code",
        "colab": {}
      },
      "source": [
        "#หาสำนักงานที่อยู่ในเขตจังหวัดทั้ง 3 โดย spatial relationship\n",
        "\n",
        "                \n",
        "result = wfs_gdf_office[(wfs_gdf_office.within(amphoe_merge.geometry.unary_union)) ]\n",
        "                          \n",
        "\n",
        "result"
      ],
      "execution_count": 0,
      "outputs": []
    },
    {
      "cell_type": "markdown",
      "metadata": {
        "id": "MvbGj7Gf-uoP",
        "colab_type": "text"
      },
      "source": [
        "##Thematic map\n",
        "- การสร้างแผนที่เฉพาะเรื่อง จากการกำหนดเงื่อนไข ในฐานข้อมูล GIS \n",
        "- ใช้ได้ทั้ง logical operation และ spatial operation ในการสร้างเงื่อนไข\n",
        "- จำแนกสีและรายละเอียด ตาม feature ของ geometry"
      ]
    },
    {
      "cell_type": "markdown",
      "metadata": {
        "id": "UxhW3end_oRy",
        "colab_type": "text"
      },
      "source": [
        "- ตัวอย่างที่ 1"
      ]
    },
    {
      "cell_type": "code",
      "metadata": {
        "id": "_APBZrnm_r3U",
        "colab_type": "code",
        "colab": {}
      },
      "source": [
        "# Load point data\n",
        "cities = gpd.read_file(gpd.datasets.get_path('naturalearth_cities'))\n",
        "\n",
        "# Read File form dataset\n",
        "world = gpd.read_file(gpd.datasets.get_path('naturalearth_lowres'))\n",
        "world.head(10)\n",
        "\n"
      ],
      "execution_count": 0,
      "outputs": []
    },
    {
      "cell_type": "code",
      "metadata": {
        "id": "t0zt5RslAY0T",
        "colab_type": "code",
        "colab": {}
      },
      "source": [
        "# Plot by GDP per capta\n",
        "world = world[(world.pop_est>0) & (world.name!='Antarctica')]\n",
        "\n",
        "world['gdp_per_cap'] = world.gdp_md_est / world.pop_est\n",
        "world.plot(column='gdp_per_cap', cmap='OrRd', scheme='quantiles');"
      ],
      "execution_count": 0,
      "outputs": []
    },
    {
      "cell_type": "code",
      "metadata": {
        "id": "Th48Ed_2JPlp",
        "colab_type": "code",
        "colab": {}
      },
      "source": [
        "world['gdp_md_est'].mean()"
      ],
      "execution_count": 0,
      "outputs": []
    },
    {
      "cell_type": "code",
      "metadata": {
        "id": "3fWwytcWIYN1",
        "colab_type": "code",
        "colab": {}
      },
      "source": [
        "mean_gdp = world['gdp_md_est'].mean()\n",
        "print('mean gdp =', mean_gdp )\n",
        "\n",
        "asia_class_gdp = world[(world.pop_est>0) & (world.continent == 'Asia')\n",
        "               & (world.gdp_md_est < mean_gdp)\n",
        "             ]\n",
        "\n",
        "print(' asia count = ', asia_class_gdp['name'].count() )\n",
        "print('min gdp_per_cap = ', asia_class_gdp['gdp_per_cap'].min() )\n",
        "\n",
        "\n",
        "#asia_class_gdp.nlargest(3, 'gdp_per_cap')\n",
        "asia_class_gdp.nsmallest(10, 'gdp_per_cap')\n"
      ],
      "execution_count": 0,
      "outputs": []
    },
    {
      "cell_type": "code",
      "metadata": {
        "id": "B5qWclXqMj8n",
        "colab_type": "code",
        "colab": {}
      },
      "source": [
        "asia_class_gdp.plot(ax=world.plot(facecolor='lightgray', figsize=(8, 8)), \n",
        "                        cmap='Paired', edgecolor='black')\n",
        "\n",
        "asia_bounds = asia_class_gdp.geometry.bounds\n",
        "\n",
        "plt.xlim([asia_bounds.minx.min()-5, asia_bounds.maxx.max()+5])\n",
        "plt.ylim([asia_bounds.miny.min()-5, asia_bounds.maxy.max()+5]);"
      ],
      "execution_count": 0,
      "outputs": []
    },
    {
      "cell_type": "markdown",
      "metadata": {
        "id": "MOHG2yUcGLdD",
        "colab_type": "text"
      },
      "source": [
        "- ตัวอย่างที่ 2"
      ]
    },
    {
      "cell_type": "code",
      "metadata": {
        "id": "PlsS_UkYGPUH",
        "colab_type": "code",
        "colab": {}
      },
      "source": [
        "wfs_gdf_amphoe.columns"
      ],
      "execution_count": 0,
      "outputs": []
    },
    {
      "cell_type": "code",
      "metadata": {
        "id": "6PMZf5-V8t11",
        "colab_type": "code",
        "colab": {}
      },
      "source": [
        "# Data\n",
        "wfs_gdf_amphoe.plot( figsize=(14, 6))"
      ],
      "execution_count": 0,
      "outputs": []
    },
    {
      "cell_type": "code",
      "metadata": {
        "id": "NcU-MrgR_ckV",
        "colab_type": "code",
        "colab": {}
      },
      "source": [
        "wfs_gdf_amphoe.plot(column='ProvinceEng', categorical=True, legend=False, figsize=(14, 6));"
      ],
      "execution_count": 0,
      "outputs": []
    },
    {
      "cell_type": "markdown",
      "metadata": {
        "id": "8-oc2oWxIMuA",
        "colab_type": "text"
      },
      "source": [
        "- ตัวอย่างที่ 3"
      ]
    },
    {
      "cell_type": "code",
      "metadata": {
        "id": "HHqJ-htvFmWU",
        "colab_type": "code",
        "colab": {}
      },
      "source": [
        "# หาอำเภอที่มีพื้นที่มากที่สุด 10 อันดับแรก\n",
        "wfs_gdf_amphoe['area_sqkm'] = wfs_gdf_amphoe.to_crs({'init': 'epsg:32647'}).geometry.area/1000000\n",
        "#wfs_gdf_amphoe.head(10)\n",
        "wfs_gdf_amphoe.nlargest(10, 'area_sqkm')"
      ],
      "execution_count": 0,
      "outputs": []
    },
    {
      "cell_type": "code",
      "metadata": {
        "id": "n7t7nFNRIBT7",
        "colab_type": "code",
        "colab": {}
      },
      "source": [
        "wfs_gdf_amphoe.nlargest(10, 'area_sqkm').plot(column='AmphoeEN', categorical=True, legend=True, figsize=(13, 9));\n",
        "plt.tight_layout()"
      ],
      "execution_count": 0,
      "outputs": []
    },
    {
      "cell_type": "markdown",
      "metadata": {
        "id": "PHuLls6BfR_Q",
        "colab_type": "text"
      },
      "source": [
        "- การสร้าง 2.5 dimensional heatmap"
      ]
    },
    {
      "cell_type": "code",
      "metadata": {
        "id": "UGvMVEnSfs3-",
        "colab_type": "code",
        "colab": {}
      },
      "source": [
        "import geoplot"
      ],
      "execution_count": 0,
      "outputs": []
    },
    {
      "cell_type": "code",
      "metadata": {
        "id": "kU4XSpg5n7YC",
        "colab_type": "code",
        "colab": {}
      },
      "source": [
        "basemap = wfs_gdf_amphoe[(wfs_gdf_amphoe.ProvinceEng=='BANGKOK')\n",
        "&((wfs_gdf_amphoe.AmphoeEN=='BANG RAK')|(wfs_gdf_amphoe.AmphoeEN=='PATHUM WAN'))]"
      ],
      "execution_count": 0,
      "outputs": []
    },
    {
      "cell_type": "code",
      "metadata": {
        "id": "Z477PCWuffNf",
        "colab_type": "code",
        "colab": {}
      },
      "source": [
        "fig = plt.figure(figsize=(15,7))\n",
        "ax1 = plt.subplot(111, projection=geoplot.crs.Mercator())\n",
        "ax1.set_title('KDEPlot heatmap ')\n",
        "geoplot.kdeplot(gcpoint, shade=True, cmap='Reds',ax=ax1)\n",
        "geoplot.pointplot(gcpoint, ax=ax1, zorder=2,marker='o', color='blue')\n",
        "geoplot.polyplot(basemap, ax=ax1, zorder=1)"
      ],
      "execution_count": 0,
      "outputs": []
    },
    {
      "cell_type": "markdown",
      "metadata": {
        "id": "mo9QJxACPb1U",
        "colab_type": "text"
      },
      "source": [
        "#Web Mapping"
      ]
    },
    {
      "cell_type": "markdown",
      "metadata": {
        "id": "wo3cjfxoRQVv",
        "colab_type": "text"
      },
      "source": [
        "- เรียนรู้การสร้าง Web Mapping ด้วย  Bokeh + Geopandas\n",
        "- ตัวอย่าง web app (WMS + geojson) [link](https://chaipat-ncm.github.io/pythonGIS/)"
      ]
    },
    {
      "cell_type": "markdown",
      "metadata": {
        "id": "iUB3YcN9PEgi",
        "colab_type": "text"
      },
      "source": [
        "## Import Package"
      ]
    },
    {
      "cell_type": "code",
      "metadata": {
        "id": "FSXQrx8-Pehb",
        "colab_type": "code",
        "colab": {}
      },
      "source": [
        "import sys\n",
        "import numpy as np\n",
        "\n",
        "from bokeh.plotting import figure, show,save\n",
        "from bokeh.io import output_notebook\n",
        "from bokeh.layouts import row\n",
        "from bokeh.models import ColumnDataSource, Range1d, BBoxTileSource\n",
        "from bokeh.io import curdoc\n",
        "from bokeh.models import HoverTool\n",
        "from bokeh.models import WMTSTileSource\n",
        "from bokeh.models import GeoJSONDataSource\n",
        "from bokeh.models import LogColorMapper, LogTicker, ColorBar\n",
        "\n",
        "from bokeh.sampledata.sample_geojson import geojson\n",
        "from bokeh.palettes import RdYlGn10 as palette\n",
        "\n",
        "\n",
        "from IPython.display import IFrame\n",
        "\n"
      ],
      "execution_count": 0,
      "outputs": []
    },
    {
      "cell_type": "markdown",
      "metadata": {
        "id": "A3xk507jPQTX",
        "colab_type": "text"
      },
      "source": [
        "## Data preparation"
      ]
    },
    {
      "cell_type": "code",
      "metadata": {
        "id": "KfxyRhCNXb8z",
        "colab_type": "code",
        "colab": {}
      },
      "source": [
        "def getPointCoords(row, geom, coord_type):\n",
        "    if coord_type == 'x':\n",
        "        return row[geom].x\n",
        "    elif coord_type == 'y':\n",
        "        return row[geom].y\n",
        "      \n",
        "def getPolyCoords(row, geom, coord_type, shape_type):\n",
        "    exterior = row[geom].exterior\n",
        "\n",
        "    if coord_type == 'x':\n",
        "        return list( exterior.coords.xy[0] )\n",
        "    elif coord_type == 'y':\n",
        "        return list( exterior.coords.xy[1] )"
      ],
      "execution_count": 0,
      "outputs": []
    },
    {
      "cell_type": "code",
      "metadata": {
        "id": "QJJlKozlUASn",
        "colab_type": "code",
        "colab": {}
      },
      "source": [
        "# data\n",
        "#po_df = wfs_gdf_office.drop('geometry', axis=1).copy()\n",
        "po_df =wfs_gdf_office[(wfs_gdf_office.within(amphoe_merge.geometry.unary_union)) ]\n",
        "po_df['lon'] = po_df.apply(getPointCoords, geom='geometry', coord_type='x', axis=1)\n",
        "po_df['lat'] = po_df.apply(getPointCoords, geom='geometry', coord_type='y', axis=1)\n",
        "\n",
        "po_df_mercator  = po_df.to_crs({'init': 'epsg:900913'})\n",
        "\n",
        "po_df_mercator.head()\n"
      ],
      "execution_count": 0,
      "outputs": []
    },
    {
      "cell_type": "code",
      "metadata": {
        "id": "gw1CLUfmZkdH",
        "colab_type": "code",
        "colab": {}
      },
      "source": [
        "po_df_mercator['x'] = po_df_mercator.apply(getPointCoords, geom='geometry', coord_type='x', axis=1)\n",
        "po_df_mercator['y'] = po_df_mercator.apply(getPointCoords, geom='geometry', coord_type='y', axis=1)\n",
        "\n",
        "po_df_mercator = po_df_mercator.drop('geometry', axis=1).copy()\n",
        "po_df_mercator"
      ],
      "execution_count": 0,
      "outputs": []
    },
    {
      "cell_type": "markdown",
      "metadata": {
        "id": "HBheT31-Pc9K",
        "colab_type": "text"
      },
      "source": [
        "## Web Mapping Application with bokeh"
      ]
    },
    {
      "cell_type": "markdown",
      "metadata": {
        "id": "8dTIlq9UPhwE",
        "colab_type": "text"
      },
      "source": [
        "- ตัวอย่างที่ 1"
      ]
    },
    {
      "cell_type": "code",
      "metadata": {
        "id": "9SlIU2vBRc-3",
        "colab_type": "code",
        "colab": {}
      },
      "source": [
        "#OSM Tile Service\n",
        "p = figure(title=\" Energy Office Map\"\n",
        "           , x_range=(10596635,11834885), y_range=(563630,2377692)\n",
        "           ,x_axis_type=\"mercator\", y_axis_type=\"mercator\")\n",
        "url = 'http://c.tile.openstreetmap.org/{Z}/{X}/{Y}.png'\n",
        "attribution = \"Source:  OSM\"\n",
        "\n",
        "p.add_tile(WMTSTileSource(url=url,attribution=attribution))\n",
        "\n",
        "\n",
        "# select  feature\n",
        "psource = ColumnDataSource(po_df_mercator)\n",
        "#p.circle(x, y, radius=rad, fill_color=colors, fill_alpha=0.6, line_color=None)\n",
        "color_mapper = LogColorMapper(palette=palette)\n",
        "p.circle('x', 'y', source=psource, fill_color={'field': 'ID', 'transform': color_mapper}, size=10)\n",
        "p_hover = HoverTool()\n",
        "p_hover.tooltips = [\n",
        "        (\"Name\", \"@Description\"),\n",
        "        (\"ID\", \"@ID\"),\n",
        "        (\"(lat, lon)\", \"(@lat, @lon)\"),\n",
        "        ]\n",
        "p.add_tools(p_hover)\n",
        "output_notebook()\n",
        "show(p)"
      ],
      "execution_count": 0,
      "outputs": []
    },
    {
      "cell_type": "code",
      "metadata": {
        "id": "D4KMf9f2bIan",
        "colab_type": "code",
        "colab": {}
      },
      "source": [
        "\n",
        "# Output filepath to HTML\n",
        "output_file = r\"./mapi.html\"\n",
        "\n",
        "# Save the map\n",
        "save(p, output_file);"
      ],
      "execution_count": 0,
      "outputs": []
    },
    {
      "cell_type": "markdown",
      "metadata": {
        "id": "uiCtdT6FeSXv",
        "colab_type": "text"
      },
      "source": [
        "- ตัวอย่าง 2"
      ]
    },
    {
      "cell_type": "code",
      "metadata": {
        "id": "p6Yk85WnlNGO",
        "colab_type": "code",
        "colab": {}
      },
      "source": [
        "# Data\n",
        "top_area = wfs_gdf_amphoe.nlargest(20, 'area_sqkm')\n",
        "\n",
        "top_area_mercator  = top_area.to_crs({'init': 'epsg:900913'})\n",
        "\n",
        "top_area_mercator['x'] = top_area_mercator.apply(getPolyCoords, geom='geometry', coord_type='x',shape_type ='polygon', axis=1)\n",
        "top_area_mercator['y'] = top_area_mercator.apply(getPolyCoords, geom='geometry', coord_type='y',shape_type ='polygon', axis=1)\n",
        "\n",
        "top_area_mercator = top_area_mercator.drop('geometry', axis=1).copy()\n",
        "top_area_mercator "
      ],
      "execution_count": 0,
      "outputs": []
    },
    {
      "cell_type": "code",
      "metadata": {
        "id": "QwupjEavjCH2",
        "colab_type": "code",
        "colab": {}
      },
      "source": [
        "url = ('http://sos-s03.gistda.or.th:80/geoserver/SDS/ows?SERVICE=WMS&'\n",
        "       'request=GetMap&styles=&version=1.3.0&format=image/png&dpiMode=4&'\n",
        "       'crs={crs}&layers={layer}&width={width}&height={height}')\n",
        "\n",
        "\n",
        "crs = 'EPSG:900913'\n",
        "ymin = 563630\n",
        "xmin = 10596635\n",
        "ymax = 2377692\n",
        "xmax = 11834885\n",
        "\n",
        "layer = 'Hydrology,AdministrativeSDS'\n",
        "width = 256\n",
        "height = 256\n",
        "\n",
        "x_range = Range1d(start=xmin, end=xmax, bounds=None)\n",
        "y_range = Range1d(start=ymin, end=ymax, bounds=None)\n",
        "\n",
        "url_set = url.format(crs=crs, width=width, height=height, layer=layer) + \\\n",
        "          '&bbox={XMIN},{YMIN},{XMAX},{YMAX}'\n",
        "\n",
        "\n",
        "#Bokeh plot\n",
        "tools= 'pan,wheel_zoom,box_zoom,reset,save'\n",
        "p1 = figure( title='Thematic Map', tools=tools,\n",
        "              x_range=x_range,\n",
        "              lod_threshold=None,\n",
        "             x_axis_location=None,\n",
        "            y_axis_location=None,\n",
        "              plot_width=800,\n",
        "              plot_height=500,\n",
        "              background_fill_color='white',\n",
        "              y_range=y_range,\n",
        "            tooltips=[\n",
        "        (\"Amphoe Name\", \"@AmphoeTH\"), (\"Province\", \"@ProvinceTh\"),(\"Area\", \"@area_sqkm\"), (\"(Long, Lat)\", \"($x, $y)\") ]\n",
        "           )\n",
        "\n",
        "tile_source = BBoxTileSource(url=url_set)\n",
        "p1.add_tile(tile_source)\n",
        "#p1.axis.visible = False\n",
        "p1.toolbar_location = 'above'"
      ],
      "execution_count": 0,
      "outputs": []
    },
    {
      "cell_type": "code",
      "metadata": {
        "id": "qNTYTegkgBM7",
        "colab_type": "code",
        "colab": {}
      },
      "source": [
        "\n",
        "gsource1 = ColumnDataSource(top_area_mercator)\n",
        "\n",
        "color_mapper = LogColorMapper(palette=palette)\n",
        "\n",
        "\n",
        "p1.grid.grid_line_color = None\n",
        "p1.hover.point_policy = 'follow_mouse'\n",
        "\n",
        "\n",
        "p1.patches('x', 'y', source=gsource1 ,\n",
        "          fill_color={'field': 'area_sqkm', 'transform': color_mapper},\n",
        "          fill_alpha=0.7, line_color='white', line_width=0.5)\n",
        "\n",
        "color_bar = ColorBar(color_mapper=color_mapper, ticker=LogTicker(),\n",
        "                     label_standoff=12, border_line_color=None, location=(0,0))\n",
        "\n",
        "p1.add_layout(color_bar, 'right')\n",
        "\n",
        "\n",
        "output_notebook()\n",
        "show(p1)"
      ],
      "execution_count": 0,
      "outputs": []
    },
    {
      "cell_type": "code",
      "metadata": {
        "id": "Dd-IosARntQL",
        "colab_type": "code",
        "colab": {}
      },
      "source": [
        "# Output filepath to HTML\n",
        "output_file = \"./map_wms_py.html\"\n",
        "\n",
        "# Save the map\n",
        "save(obj=p1, filename=output_file)"
      ],
      "execution_count": 0,
      "outputs": []
    },
    {
      "cell_type": "markdown",
      "metadata": {
        "id": "VYJsrRF9l6Ck",
        "colab_type": "text"
      },
      "source": [
        "## Web Mapping Application with Folium"
      ]
    },
    {
      "cell_type": "markdown",
      "metadata": {
        "id": "La78tJMwl-Pa",
        "colab_type": "text"
      },
      "source": [
        "- Folium เป็น Python library ใช้ในการสร้าง Web Mapping Application\n",
        "- ทำงานบน Leaflet.js lib เพื่อแสดงผลและบริหารจัดการข้อมูล Geospatial Data และ Map Service บน web application "
      ]
    },
    {
      "cell_type": "code",
      "metadata": {
        "id": "EwI-DwFCAn5Q",
        "colab_type": "code",
        "colab": {}
      },
      "source": [
        "import folium\n",
        "from folium.plugins import Draw\n",
        "from folium.plugins import MeasureControl"
      ],
      "execution_count": 0,
      "outputs": []
    },
    {
      "cell_type": "code",
      "metadata": {
        "id": "A1s8a4ko99fd",
        "colab_type": "code",
        "colab": {}
      },
      "source": [
        "# Download file\n",
        "!wget -O 'shop.zip' https://github.com/chaipat-ncm/foss4gthailand_2019_pythongis/blob/master/data/shop.zip?raw=true\n",
        "!unzip ./shop.zip\n"
      ],
      "execution_count": 0,
      "outputs": []
    },
    {
      "cell_type": "code",
      "metadata": {
        "id": "XD5hU7q0_gmn",
        "colab_type": "code",
        "colab": {}
      },
      "source": [
        "# Read file using gpd.read_file()\n",
        "pointdata = gpd.read_file('./shop.shp', encoding = 'tis-620')\n",
        "type(pointdata)\n",
        "pointdata.head(50)"
      ],
      "execution_count": 0,
      "outputs": []
    },
    {
      "cell_type": "code",
      "metadata": {
        "id": "VMfBetvTxqEm",
        "colab_type": "code",
        "colab": {}
      },
      "source": [
        "fm = folium.Map(location=[14.3584,100.543676], zoom_start=13)\n",
        "fm.add_child(MeasureControl())\n",
        "\n",
        "for lat, lng, label,stype in zip(pointdata['lat'], pointdata['lon'],('Name:  '+pointdata['Name'].astype(str)+'\\n Type:  '+pointdata['type'].astype(str)),pointdata['type'].astype(str)):\n",
        "    if stype =='ชิม':\n",
        "        folium.Marker([lat, lng],popup=label,icon=folium.Icon(color='red')).add_to(fm)\n",
        "    elif stype =='ช้อป':\n",
        "        folium.Marker([lat, lng],popup=label,icon=folium.Icon(color='green')).add_to(fm)\n",
        "    elif stype =='ช้อปธงฟ้า':\n",
        "        folium.Marker([lat, lng],popup=label,icon=folium.Icon(color='blue')).add_to(fm)\n",
        "    elif stype =='ทั่วไป':\n",
        "        folium.Marker([lat, lng],popup=label,icon=folium.Icon(color='pink')).add_to(fm)\n",
        "    else:\n",
        "        folium.Marker([lat, lng],popup=label,icon=folium.Icon(color='brown')).add_to(fm)\n",
        "    \n",
        "# Show map\n",
        "draw = Draw()\n",
        "draw.add_to(fm)\n",
        "\n",
        "\n",
        "## Show Map\n",
        "fm"
      ],
      "execution_count": 0,
      "outputs": []
    },
    {
      "cell_type": "code",
      "metadata": {
        "id": "CJW0i8RZNroY",
        "colab_type": "code",
        "colab": {}
      },
      "source": [
        "\n",
        "fm.save(outfile='ayu_shopmap.html')\n"
      ],
      "execution_count": 0,
      "outputs": []
    },
    {
      "cell_type": "markdown",
      "metadata": {
        "id": "IwpWXDmju-NT",
        "colab_type": "text"
      },
      "source": [
        "# Open Street Map(OSM)"
      ]
    },
    {
      "cell_type": "markdown",
      "metadata": {
        "id": "7SqspBrhd5aJ",
        "colab_type": "text"
      },
      "source": [
        "- โครงการความร่วมมือเพื่อสร้างแผนที่แบบเปิด\n",
        "- Crowd-sourced dataset แนวคิดการทำงานร่วมกัน ลักษณะชวนคนเข้ามาร่วมสร้างข้อมูล GIS และพัฒนาฐานข้อมูลเชิงพื้นที่แบบเปิด แต่สามารถตรวจสอบคุณภาพได้\n",
        "-เป้าหมายเพื่อให้เกิดการใช้งานร่วมกัน การร่วมมือลงแรงปรับปรุงสร้างแผนที่ฐาน เพื่อการพัฒนา \n",
        "- ปัจจุบันผ่านมากว่า 10 ปี OSM ยิ่งเติบโต และมีข้อมูลเพิ่มขึ้นมหาศาล ทั่วโลก จำนวนผู้ใช้กว่า 4 million users\n",
        "\n",
        "\n"
      ]
    },
    {
      "cell_type": "markdown",
      "metadata": {
        "id": "1JX_NDb_ffz2",
        "colab_type": "text"
      },
      "source": [
        "## Introduction"
      ]
    },
    {
      "cell_type": "markdown",
      "metadata": {
        "id": "sdLv9yCEf6wa",
        "colab_type": "text"
      },
      "source": [
        "- OSMnx package พัฒนาบน NetworkX, matplotlib และ geopandas\n",
        "- เพื่อรองรับการทำงานด้าน network analysis จากฐานข้อมูลถนนและเส้นทาง ของ OSM Map Service \n",
        "- ปัจจุบัน osmnx มีหลายฟังก์ชั่นและโมดูลงานที่สำคัญครอบคลุม ในการวิเคราะห์การเดินทาง, คำนวณต้นทุน/คำนวณเวลาเดินทาง,หาเส้นทางสั้นสุด(shortest paths) ,การจัดระบบการขนส่ง เป็นต้น"
      ]
    },
    {
      "cell_type": "markdown",
      "metadata": {
        "id": "GZwa5WHigX_h",
        "colab_type": "text"
      },
      "source": [
        "## Install Package"
      ]
    },
    {
      "cell_type": "code",
      "metadata": {
        "id": "xpvn6aZQvBRp",
        "colab_type": "code",
        "colab": {}
      },
      "source": [
        "!pip install osmnx"
      ],
      "execution_count": 0,
      "outputs": []
    },
    {
      "cell_type": "markdown",
      "metadata": {
        "id": "fBeda0eH9GnA",
        "colab_type": "text"
      },
      "source": [
        "## Extract and Explore OSM Data"
      ]
    },
    {
      "cell_type": "code",
      "metadata": {
        "id": "v-nmP-aTg4bl",
        "colab_type": "code",
        "colab": {}
      },
      "source": [
        "import sys\n",
        "import pysal as ps\n",
        "import numpy as np\n",
        "import pandas as pd\n",
        "import geopandas\n",
        "from shapely.geometry import Point\n",
        "import matplotlib.pyplot as plt\n",
        "import matplotlib.pylab as pylab\n",
        "from shapely.wkt import loads\n",
        "\n",
        "import requests\n",
        "\n",
        "import osmnx as ox\n",
        "import folium\n",
        "import networkx as nx, matplotlib.cm as cm\n"
      ],
      "execution_count": 0,
      "outputs": []
    },
    {
      "cell_type": "markdown",
      "metadata": {
        "id": "u6oS-LClBWrl",
        "colab_type": "text"
      },
      "source": [
        "1. ดาวน์โหลดข้อมูลถนนจาก OSM โดยกำหนดชื่อสถานที่"
      ]
    },
    {
      "cell_type": "code",
      "metadata": {
        "id": "jDpuDgv69Mwc",
        "colab_type": "code",
        "colab": {}
      },
      "source": [
        "#Download BKK route data\n",
        "ox.plot_graph(ox.graph_from_place('Bangkok, Thailand'))"
      ],
      "execution_count": 0,
      "outputs": []
    },
    {
      "cell_type": "code",
      "metadata": {
        "id": "a2ftWoB_9jZA",
        "colab_type": "code",
        "colab": {}
      },
      "source": [
        "place_name = \"Siam Paragon, Bangkok,Thailand\"\n",
        "G = ox.graph_from_place(place_name, network_type='drive' ,buffer_dist=5000)\n",
        "ox.plot_graph(G)\n",
        "\n",
        "# save network to disk as GraphML file\n",
        "#ox.save_graphml(G, filename='siam.graphml')\n",
        "\n"
      ],
      "execution_count": 0,
      "outputs": []
    },
    {
      "cell_type": "markdown",
      "metadata": {
        "id": "cfWD52IhB-QH",
        "colab_type": "text"
      },
      "source": [
        "2. การเข้าถึงข้อมูลจากขอบเขตพิกัดภูมิศาสตร์(BBOX) "
      ]
    },
    {
      "cell_type": "code",
      "metadata": {
        "id": "1BCDj0hnCGQX",
        "colab_type": "code",
        "colab": {}
      },
      "source": [
        "#ระบบพิกัด EPSG 4326\n",
        "route_cu = ox.graph_from_bbox(13.745,13.736,100.5428,100.524, network_type='all')\n",
        "route_cu_projected = ox.project_graph(route_cu)\n",
        "ox.plot_graph(route_cu_projected)\n"
      ],
      "execution_count": 0,
      "outputs": []
    },
    {
      "cell_type": "code",
      "metadata": {
        "id": "kPgG9RkDNKC-",
        "colab_type": "code",
        "colab": {}
      },
      "source": [
        "cu_route_gdf = ox.graph_to_gdfs(route_cu_projected, nodes=False)\n",
        "cu_route_gdf.plot()"
      ],
      "execution_count": 0,
      "outputs": []
    },
    {
      "cell_type": "markdown",
      "metadata": {
        "id": "agYw67I6BjzQ",
        "colab_type": "text"
      },
      "source": [
        "3. แปลงข้อมูลจาก OSM Vector Data เข้าสู่ Geodataframe"
      ]
    },
    {
      "cell_type": "code",
      "metadata": {
        "id": "KjSGPRL8Ax_n",
        "colab_type": "code",
        "colab": {}
      },
      "source": [
        "city = ox.gdf_from_place('Phra Nakhon Si Ayutthaya Province Thailand')\n",
        "ayu_city_proj = ox.project_gdf(city)\n",
        "ox.plot_shape(ayu_city_proj)\n"
      ],
      "execution_count": 0,
      "outputs": []
    },
    {
      "cell_type": "code",
      "metadata": {
        "id": "bXPxACFLHbTp",
        "colab_type": "code",
        "colab": {}
      },
      "source": [
        "city.columns"
      ],
      "execution_count": 0,
      "outputs": []
    },
    {
      "cell_type": "code",
      "metadata": {
        "id": "A-qlpq8mBp-7",
        "colab_type": "code",
        "colab": {}
      },
      "source": [
        "city"
      ],
      "execution_count": 0,
      "outputs": []
    },
    {
      "cell_type": "code",
      "metadata": {
        "id": "ItL1bZvpGTz8",
        "colab_type": "code",
        "colab": {}
      },
      "source": [
        "city.plot(edgecolor='red', linewidth=2);"
      ],
      "execution_count": 0,
      "outputs": []
    },
    {
      "cell_type": "markdown",
      "metadata": {
        "id": "8g1ykstCChg3",
        "colab_type": "text"
      },
      "source": [
        "4. การเข้าถึงข้อมูล building footprints"
      ]
    },
    {
      "cell_type": "code",
      "metadata": {
        "id": "FBRttV1T9100",
        "colab_type": "code",
        "colab": {}
      },
      "source": [
        "point = (14.353813, 100.56276)\n",
        "dist = 1000\n",
        "ayu_buildings = ox.footprints.footprints_from_point(point=point, distance=dist)\n",
        "ox.plot_shape(ox.project_gdf(ayu_buildings))"
      ],
      "execution_count": 0,
      "outputs": []
    },
    {
      "cell_type": "code",
      "metadata": {
        "id": "eL5RBn22Coc-",
        "colab_type": "code",
        "colab": {}
      },
      "source": [
        "place_name = \"Chulalongkorn University, Bangkok,Thailand\"\n",
        "buildings = ox.footprints.footprints_from_place(place_name)\n",
        "ox.plot_shape(ox.project_gdf(buildings))"
      ],
      "execution_count": 0,
      "outputs": []
    },
    {
      "cell_type": "code",
      "metadata": {
        "id": "J2IOtrsAEZKJ",
        "colab_type": "code",
        "colab": {}
      },
      "source": [
        "#ตรวจสอบรายละเอียดข้อมูล buliding\n",
        "# CRS\n",
        "print(buildings.crs)\n",
        "# Number of buildings returned\n",
        "num_building = len(buildings)\n",
        "print(num_building)\n"
      ],
      "execution_count": 0,
      "outputs": []
    },
    {
      "cell_type": "code",
      "metadata": {
        "id": "QD0WVnA-HnUB",
        "colab_type": "code",
        "colab": {}
      },
      "source": [
        "print(buildings.geom_type.unique())\n",
        "print(buildings.columns)"
      ],
      "execution_count": 0,
      "outputs": []
    },
    {
      "cell_type": "code",
      "metadata": {
        "id": "IvZEqQCHDNMX",
        "colab_type": "code",
        "colab": {}
      },
      "source": [
        "buildings.head(5)"
      ],
      "execution_count": 0,
      "outputs": []
    },
    {
      "cell_type": "code",
      "metadata": {
        "id": "SO6mcWn6H9is",
        "colab_type": "code",
        "colab": {}
      },
      "source": [
        "buildings['building'].value_counts()"
      ],
      "execution_count": 0,
      "outputs": []
    },
    {
      "cell_type": "code",
      "metadata": {
        "id": "PZ6mwF_wILgu",
        "colab_type": "code",
        "colab": {}
      },
      "source": [
        "buildings['sport'].value_counts()"
      ],
      "execution_count": 0,
      "outputs": []
    },
    {
      "cell_type": "code",
      "metadata": {
        "id": "KVU8aOwnFFNf",
        "colab_type": "code",
        "colab": {}
      },
      "source": [
        "buildings_proj = ox.project_gdf(buildings)\n",
        "print(buildings_proj.crs)\n",
        "# calculate the area in projected units (meters) of each building footprint, then display first five\n",
        "areas = buildings_proj.area\n",
        "areas.head()"
      ],
      "execution_count": 0,
      "outputs": []
    },
    {
      "cell_type": "code",
      "metadata": {
        "id": "BOHSVZAYFiIa",
        "colab_type": "code",
        "colab": {}
      },
      "source": [
        "# total area (sq m) covered by building footprints\n",
        "sum(areas)"
      ],
      "execution_count": 0,
      "outputs": []
    },
    {
      "cell_type": "code",
      "metadata": {
        "id": "cDLhLE09HjKt",
        "colab_type": "code",
        "colab": {}
      },
      "source": [
        "# get the total area within เขต ปทุมวัน\n",
        "district = ox.gdf_from_place('เขตปทุมวัน, กรุงเทพมหานคร, 10330, ประเทศไทย')\n",
        "district_proj = ox.project_gdf(district)\n",
        "dist_area = district_proj.area.iloc[0]\n",
        "dist_area"
      ],
      "execution_count": 0,
      "outputs": []
    },
    {
      "cell_type": "code",
      "metadata": {
        "id": "aC9YiXR8J59k",
        "colab_type": "code",
        "colab": {}
      },
      "source": [
        "#คำนวณสัดส่วนอาคาร ในมหาวิทยาลัย เทียบพื้นที่ทั้งหมดในเขตปทุมวัน\n",
        "100*(sum(areas)/dist_area)"
      ],
      "execution_count": 0,
      "outputs": []
    },
    {
      "cell_type": "markdown",
      "metadata": {
        "id": "XnJUOWd9P7Zv",
        "colab_type": "text"
      },
      "source": [
        "## Create a CU Map\n"
      ]
    },
    {
      "cell_type": "code",
      "metadata": {
        "id": "tUZYYofhKlCa",
        "colab_type": "code",
        "colab": {}
      },
      "source": [
        "fig, ax = plt.subplots(figsize=(10, 10))\n",
        "ax.set_title('Chulalongkorn University MAP',fontname='Tahoma',fontsize='13')\n",
        "cu_route_gdf.plot(ax=ax, edgecolor='gray', linewidth=1.0)\n",
        "buildings_proj.plot(ax=ax, column='building', categorical=True, legend=True, alpha=0.75,cmap='Paired', edgecolor='grey')"
      ],
      "execution_count": 0,
      "outputs": []
    },
    {
      "cell_type": "code",
      "metadata": {
        "id": "3HKpAvtBDpzC",
        "colab_type": "code",
        "colab": {}
      },
      "source": [
        "# save as a shapefile\n",
        "gdf_save = buildings.drop(labels='nodes', axis=1)\n",
        "gdf_save.to_file('./chula_buildings')"
      ],
      "execution_count": 0,
      "outputs": []
    },
    {
      "cell_type": "markdown",
      "metadata": {
        "id": "2uMUwUffPXz_",
        "colab_type": "text"
      },
      "source": [
        "## Network Analysis"
      ]
    },
    {
      "cell_type": "code",
      "metadata": {
        "id": "kj0J96U7EVFI",
        "colab_type": "code",
        "colab": {}
      },
      "source": [
        "#Data preparation\n",
        "G = ox.graph_from_bbox(13.745,13.736,100.5428,100.524, network_type='all')\n",
        "origin = (13.735933, 100.527120)\n",
        "destination = (13.741874, 100.531839)\n",
        "\n",
        "#Snap location to node\n",
        "origin_node = ox.get_nearest_node(G, origin)\n",
        "destination_node = ox.get_nearest_node(G, destination)\n",
        "\n",
        "# Shortest path Analysis\n",
        "route = nx.shortest_path(G, origin_node, destination_node)\n",
        "\n",
        "# Check Result\n",
        "print('start node = ',origin_node,', end node = ', destination_node)\n",
        "print('result: ' ,str(route))\n",
        "\n",
        "\n",
        "# Plot Network Map\n",
        "fig, ax = ox.plot_graph_route(G, route,orig_dest_node_color='green')\n",
        "plt.tight_layout()\n",
        "\n"
      ],
      "execution_count": 0,
      "outputs": []
    },
    {
      "cell_type": "code",
      "metadata": {
        "id": "U8UdoJriPeWh",
        "colab_type": "code",
        "colab": {}
      },
      "source": [
        ""
      ],
      "execution_count": 0,
      "outputs": []
    }
  ]
}